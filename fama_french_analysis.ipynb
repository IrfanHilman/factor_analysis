{
 "cells": [
  {
   "cell_type": "markdown",
   "id": "930c7dc4",
   "metadata": {},
   "source": [
    "Source: https://sec-api.io/resources/fama-french-factor-model\n",
    "Data F-F_Research_Data_Factors.csv from: https://mba.tuck.dartmouth.edu/pages/faculty/ken.french/ftp/F-F_Research_Data_Factors_CSV.zip"
   ]
  },
  {
   "cell_type": "code",
   "execution_count": 50,
   "id": "e5b26f3c",
   "metadata": {},
   "outputs": [],
   "source": [
    "import pandas as pd\n",
    "import statsmodels.api as sm\n",
    "import warnings\n",
    "warnings.simplefilter(action='ignore', category=FutureWarning)\n"
   ]
  },
  {
   "cell_type": "code",
   "execution_count": 51,
   "id": "53bef4ef",
   "metadata": {},
   "outputs": [],
   "source": [
    "port_monthly = pd.read_excel('Backtesting Momentum 252 Days Skip 0 Days 21 Days 10 Stocks 2010-01-01 to 2025-03-21 Equal-Weight.xlsx',sheet_name='Performance')\n",
    "port_monthly = port_monthly[['Date','Total Capital']]\n",
    "port_monthly = port_monthly.set_index('Date',drop=True)"
   ]
  },
  {
   "cell_type": "code",
   "execution_count": 52,
   "id": "b3c8df49",
   "metadata": {},
   "outputs": [],
   "source": [
    "ff_factors_monthly = pd.read_excel('FF Portfolio Equal-Weight First-Day in Month.xlsx')\n",
    "ff_factors_monthly = ff_factors_monthly.set_index('Date',drop=True)\n",
    "# Filter factor dates to match the asset\n",
    "ff_factors_subset = ff_factors_monthly[ff_factors_monthly.index.isin(port_monthly.index)].copy()\n",
    "port_monthly= port_monthly[port_monthly.index.isin(ff_factors_subset.index)]\n",
    "ff_factors_subset = ff_factors_subset[~ff_factors_subset.index.duplicated()]\n",
    "# Step 3: Calculate excess returns for the asset\n",
    "port_monthly['Portfolio Return'] = port_monthly['Total Capital'].pct_change()\n",
    "port_monthly = port_monthly.drop(columns='Total Capital')\n",
    "port_monthly = port_monthly.iloc[1:]\n",
    "ff_factors_subset = ff_factors_subset.iloc[1:]\n",
    "ff_factors_subset[\"Excess Return\"] = port_monthly[\"Portfolio Return\"] - ff_factors_subset[\"Rf\"].astype('float')"
   ]
  },
  {
   "cell_type": "code",
   "execution_count": 53,
   "id": "ea012cd7",
   "metadata": {},
   "outputs": [
    {
     "name": "stdout",
     "output_type": "stream",
     "text": [
      "                            OLS Regression Results                            \n",
      "==============================================================================\n",
      "Dep. Variable:          Excess Return   R-squared:                       0.001\n",
      "Model:                            OLS   Adj. R-squared:                 -0.006\n",
      "Method:                 Least Squares   F-statistic:                   0.08642\n",
      "Date:                Sun, 11 May 2025   Prob (F-statistic):              0.769\n",
      "Time:                        15:38:07   Log-Likelihood:                 233.04\n",
      "No. Observations:                 152   AIC:                            -462.1\n",
      "Df Residuals:                     150   BIC:                            -456.0\n",
      "Df Model:                           1                                         \n",
      "Covariance Type:            nonrobust                                         \n",
      "==============================================================================\n",
      "                 coef    std err          t      P>|t|      [0.025      0.975]\n",
      "------------------------------------------------------------------------------\n",
      "const         -0.0049      0.004     -1.128      0.261      -0.013       0.004\n",
      "MOM           -0.0263      0.089     -0.294      0.769      -0.203       0.150\n",
      "==============================================================================\n",
      "Omnibus:                        8.828   Durbin-Watson:                   1.859\n",
      "Prob(Omnibus):                  0.012   Jarque-Bera (JB):                9.323\n",
      "Skew:                          -0.462   Prob(JB):                      0.00945\n",
      "Kurtosis:                       3.787   Cond. No.                         21.0\n",
      "==============================================================================\n",
      "\n",
      "Notes:\n",
      "[1] Standard Errors assume that the covariance matrix of the errors is correctly specified.\n"
     ]
    }
   ],
   "source": [
    "# Prepare the independent variables (add a constant to the model)\n",
    "#X = sm.add_constant(ff_factors_subset[[\"Mkt - Rf\", \"SMB\", \"HML\", \"MOM\"]])\n",
    "X = sm.add_constant(ff_factors_subset[[\"MOM\"]])\n",
    "# The dependent variable\n",
    "y = ff_factors_subset[\"Excess Return\"]\n",
    "X = X.apply(pd.to_numeric, errors='coerce')  # Convert all columns of X to numeric, turning non-numeric into NaN\n",
    "y = pd.to_numeric(y, errors='coerce')       # Convert y to numeric\n",
    "# Run the regression\n",
    "model = sm.OLS(y, X).fit()\n",
    "# Display the summary of the regression\n",
    "print(model.summary())"
   ]
  }
 ],
 "metadata": {
  "kernelspec": {
   "display_name": "Python 3",
   "language": "python",
   "name": "python3"
  },
  "language_info": {
   "codemirror_mode": {
    "name": "ipython",
    "version": 3
   },
   "file_extension": ".py",
   "mimetype": "text/x-python",
   "name": "python",
   "nbconvert_exporter": "python",
   "pygments_lexer": "ipython3",
   "version": "3.10.7"
  }
 },
 "nbformat": 4,
 "nbformat_minor": 5
}
