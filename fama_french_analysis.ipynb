{
 "cells": [
  {
   "cell_type": "markdown",
   "id": "930c7dc4",
   "metadata": {},
   "source": [
    "Source: https://sec-api.io/resources/fama-french-factor-model\n",
    "Data F-F_Research_Data_Factors.csv from: https://mba.tuck.dartmouth.edu/pages/faculty/ken.french/ftp/F-F_Research_Data_Factors_CSV.zip"
   ]
  },
  {
   "cell_type": "code",
   "execution_count": 26,
   "id": "e5b26f3c",
   "metadata": {},
   "outputs": [],
   "source": [
    "import pandas as pd\n",
    "import statsmodels.api as sm\n",
    "import warnings\n",
    "warnings.simplefilter(action='ignore', category=FutureWarning)\n"
   ]
  },
  {
   "cell_type": "code",
   "execution_count": 27,
   "id": "53bef4ef",
   "metadata": {},
   "outputs": [],
   "source": [
    "port_monthly = pd.read_excel('IDX30 Top.xlsx',sheet_name='Performance')\n",
    "port_monthly = port_monthly[['Date','Total Capital']]\n",
    "port_monthly = port_monthly.set_index('Date',drop=True)"
   ]
  },
  {
   "cell_type": "code",
   "execution_count": 28,
   "id": "b3c8df49",
   "metadata": {},
   "outputs": [],
   "source": [
    "ff_factors_monthly = pd.read_excel('FF Portfolio Equal-Weight First-Day in Month.xlsx')\n",
    "ff_factors_monthly = ff_factors_monthly.set_index('Date',drop=True)\n",
    "# Filter factor dates to match the asset\n",
    "ff_factors_subset = ff_factors_monthly[ff_factors_monthly.index.isin(port_monthly.index)].copy()\n",
    "port_monthly= port_monthly[port_monthly.index.isin(ff_factors_subset.index)]\n",
    "ff_factors_subset = ff_factors_subset[~ff_factors_subset.index.duplicated()]\n",
    "# Step 3: Calculate excess returns for the asset\n",
    "port_monthly['Portfolio Return'] = port_monthly['Total Capital'].pct_change()\n",
    "port_monthly = port_monthly.drop(columns='Total Capital')\n",
    "port_monthly = port_monthly.iloc[1:]\n",
    "ff_factors_subset = ff_factors_subset.iloc[1:]\n",
    "ff_factors_subset[\"Excess Return\"] = port_monthly[\"Portfolio Return\"] - ff_factors_subset[\"Rf\"].astype('float')"
   ]
  },
  {
   "cell_type": "code",
   "execution_count": 32,
   "id": "8ec9a213",
   "metadata": {},
   "outputs": [
    {
     "name": "stdout",
     "output_type": "stream",
     "text": [
      "                            OLS Regression Results                            \n",
      "==============================================================================\n",
      "Dep. Variable:          Excess Return   R-squared:                       0.461\n",
      "Model:                            OLS   Adj. R-squared:                  0.446\n",
      "Method:                 Least Squares   F-statistic:                     31.43\n",
      "Date:                Sat, 24 May 2025   Prob (F-statistic):           6.54e-19\n",
      "Time:                        19:05:39   Log-Likelihood:                 255.21\n",
      "No. Observations:                 152   AIC:                            -500.4\n",
      "Df Residuals:                     147   BIC:                            -485.3\n",
      "Df Model:                           4                                         \n",
      "Covariance Type:            nonrobust                                         \n",
      "==============================================================================\n",
      "                 coef    std err          t      P>|t|      [0.025      0.975]\n",
      "------------------------------------------------------------------------------\n",
      "const          0.0748      0.004     18.333      0.000       0.067       0.083\n",
      "Mkt - Rf       0.9825      0.106      9.256      0.000       0.773       1.192\n",
      "SMB           -0.2169      0.141     -1.539      0.126      -0.495       0.062\n",
      "HML            0.0077      0.094      0.081      0.935      -0.179       0.194\n",
      "MOM           -0.1875      0.098     -1.918      0.057      -0.381       0.006\n",
      "==============================================================================\n",
      "Omnibus:                       32.715   Durbin-Watson:                   2.189\n",
      "Prob(Omnibus):                  0.000   Jarque-Bera (JB):               54.543\n",
      "Skew:                           1.055   Prob(JB):                     1.43e-12\n",
      "Kurtosis:                       5.041   Cond. No.                         38.8\n",
      "==============================================================================\n",
      "\n",
      "Notes:\n",
      "[1] Standard Errors assume that the covariance matrix of the errors is correctly specified.\n"
     ]
    }
   ],
   "source": [
    "# Prepare the independent variables (add a constant to the model)\n",
    "#X = sm.add_constant(ff_factors_subset[[\"Mkt - Rf\", \"SMB\", \"HML\", \"MOM\"]])\n",
    "X = sm.add_constant(ff_factors_subset[['Mkt - Rf','SMB','HML','MOM']])\n",
    "# The dependent variable\n",
    "y = ff_factors_subset[\"Excess Return\"]\n",
    "X = X.apply(pd.to_numeric, errors='coerce')  # Convert all columns of X to numeric, turning non-numeric into NaN\n",
    "y = pd.to_numeric(y, errors='coerce')       # Convert y to numeric\n",
    "# Run the regression\n",
    "model = sm.OLS(y, X).fit()\n",
    "# Display the summary of the regression\n",
    "print(model.summary())"
   ]
  }
 ],
 "metadata": {
  "kernelspec": {
   "display_name": "Python 3",
   "language": "python",
   "name": "python3"
  },
  "language_info": {
   "codemirror_mode": {
    "name": "ipython",
    "version": 3
   },
   "file_extension": ".py",
   "mimetype": "text/x-python",
   "name": "python",
   "nbconvert_exporter": "python",
   "pygments_lexer": "ipython3",
   "version": "3.10.7"
  }
 },
 "nbformat": 4,
 "nbformat_minor": 5
}
